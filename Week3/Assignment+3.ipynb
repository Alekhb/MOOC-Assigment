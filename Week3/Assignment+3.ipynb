{
 "cells": [
  {
   "cell_type": "markdown",
   "metadata": {},
   "source": [
    "---\n",
    "\n",
    "_You are currently looking at **version 1.5** of this notebook. To download notebooks and datafiles, as well as get help on Jupyter notebooks in the Coursera platform, visit the [Jupyter Notebook FAQ](https://www.coursera.org/learn/python-data-analysis/resources/0dhYG) course resource._\n",
    "\n",
    "---"
   ]
  },
  {
   "cell_type": "markdown",
   "metadata": {},
   "source": [
    "# Assignment 3 - More Pandas\n",
    "This assignment requires more individual learning then the last one did - you are encouraged to check out the [pandas documentation](http://pandas.pydata.org/pandas-docs/stable/) to find functions or methods you might not have used yet, or ask questions on [Stack Overflow](http://stackoverflow.com/) and tag them as pandas and python related. And of course, the discussion forums are open for interaction with your peers and the course staff."
   ]
  },
  {
   "cell_type": "markdown",
   "metadata": {},
   "source": [
    "### Question 1 (20%)\n",
    "Load the energy data from the file `Energy Indicators.xls`, which is a list of indicators of [energy supply and renewable electricity production](Energy%20Indicators.xls) from the [United Nations](http://unstats.un.org/unsd/environment/excel_file_tables/2013/Energy%20Indicators.xls) for the year 2013, and should be put into a DataFrame with the variable name of **energy**.\n",
    "\n",
    "Keep in mind that this is an Excel file, and not a comma separated values file. Also, make sure to exclude the footer and header information from the datafile. The first two columns are unneccessary, so you should get rid of them, and you should change the column labels so that the columns are:\n",
    "\n",
    "`['Country', 'Energy Supply', 'Energy Supply per Capita', '% Renewable']`\n",
    "\n",
    "Convert `Energy Supply` to gigajoules (there are 1,000,000 gigajoules in a petajoule). For all countries which have missing data (e.g. data with \"...\") make sure this is reflected as `np.NaN` values.\n",
    "\n",
    "Rename the following list of countries (for use in later questions):\n",
    "\n",
    "```\"Republic of Korea\": \"South Korea\",\n",
    "\"United States of America\": \"United States\",\n",
    "\"United Kingdom of Great Britain and Northern Ireland\": \"United Kingdom\",\n",
    "\"China, Hong Kong Special Administrative Region\": \"Hong Kong\"```\n",
    "\n",
    "There are also several countries with numbers and/or parenthesis in their name. Be sure to remove these, \n",
    "\n",
    "e.g. \n",
    "\n",
    "`'Bolivia (Plurinational State of)'` should be `'Bolivia'`, \n",
    "\n",
    "`'Switzerland17'` should be `'Switzerland'`.\n",
    "\n",
    "<br>\n",
    "\n",
    "Next, load the GDP data from the file `world_bank.csv`, which is a csv containing countries' GDP from 1960 to 2015 from [World Bank](http://data.worldbank.org/indicator/NY.GDP.MKTP.CD). Call this DataFrame **GDP**. \n",
    "\n",
    "Make sure to skip the header, and rename the following list of countries:\n",
    "\n",
    "```\"Korea, Rep.\": \"South Korea\", \n",
    "\"Iran, Islamic Rep.\": \"Iran\",\n",
    "\"Hong Kong SAR, China\": \"Hong Kong\"```\n",
    "\n",
    "<br>\n",
    "\n",
    "Finally, load the [Sciamgo Journal and Country Rank data for Energy Engineering and Power Technology](http://www.scimagojr.com/countryrank.php?category=2102) from the file `scimagojr-3.xlsx`, which ranks countries based on their journal contributions in the aforementioned area. Call this DataFrame **ScimEn**.\n",
    "\n",
    "Join the three datasets: GDP, Energy, and ScimEn into a new dataset (using the intersection of country names). Use only the last 10 years (2006-2015) of GDP data and only the top 15 countries by Scimagojr 'Rank' (Rank 1 through 15). \n",
    "\n",
    "The index of this DataFrame should be the name of the country, and the columns should be ['Rank', 'Documents', 'Citable documents', 'Citations', 'Self-citations',\n",
    "       'Citations per document', 'H index', 'Energy Supply',\n",
    "       'Energy Supply per Capita', '% Renewable', '2006', '2007', '2008',\n",
    "       '2009', '2010', '2011', '2012', '2013', '2014', '2015'].\n",
    "\n",
    "*This function should return a DataFrame with 20 columns and 15 entries.*"
   ]
  },
  {
   "cell_type": "code",
   "execution_count": 261,
   "metadata": {
    "umich_part_id": "009",
    "umich_partlist_id": "003"
   },
   "outputs": [
    {
     "data": {
      "text/html": [
       "<div>\n",
       "<table border=\"1\" class=\"dataframe\">\n",
       "  <thead>\n",
       "    <tr style=\"text-align: right;\">\n",
       "      <th></th>\n",
       "      <th>Rank</th>\n",
       "      <th>Documents</th>\n",
       "      <th>Citable documents</th>\n",
       "      <th>Citations</th>\n",
       "      <th>Self-citations</th>\n",
       "      <th>Citations per document</th>\n",
       "      <th>H index</th>\n",
       "      <th>Energy Supply</th>\n",
       "      <th>Energy Supply per Capita</th>\n",
       "      <th>% Renewable</th>\n",
       "      <th>2006</th>\n",
       "      <th>2007</th>\n",
       "      <th>2008</th>\n",
       "      <th>2009</th>\n",
       "      <th>2010</th>\n",
       "      <th>2011</th>\n",
       "      <th>2012</th>\n",
       "      <th>2013</th>\n",
       "      <th>2014</th>\n",
       "      <th>2015</th>\n",
       "    </tr>\n",
       "    <tr>\n",
       "      <th>Country</th>\n",
       "      <th></th>\n",
       "      <th></th>\n",
       "      <th></th>\n",
       "      <th></th>\n",
       "      <th></th>\n",
       "      <th></th>\n",
       "      <th></th>\n",
       "      <th></th>\n",
       "      <th></th>\n",
       "      <th></th>\n",
       "      <th></th>\n",
       "      <th></th>\n",
       "      <th></th>\n",
       "      <th></th>\n",
       "      <th></th>\n",
       "      <th></th>\n",
       "      <th></th>\n",
       "      <th></th>\n",
       "      <th></th>\n",
       "      <th></th>\n",
       "    </tr>\n",
       "  </thead>\n",
       "  <tbody>\n",
       "    <tr>\n",
       "      <th>China</th>\n",
       "      <td>1.00</td>\n",
       "      <td>127050.00</td>\n",
       "      <td>126767.00</td>\n",
       "      <td>597237.00</td>\n",
       "      <td>411683.00</td>\n",
       "      <td>4.70</td>\n",
       "      <td>138.00</td>\n",
       "      <td>127191000000.00</td>\n",
       "      <td>93.00</td>\n",
       "      <td>19.75</td>\n",
       "      <td>3992331462570.89</td>\n",
       "      <td>4559041383517.93</td>\n",
       "      <td>4997775145605.96</td>\n",
       "      <td>5459247267275.14</td>\n",
       "      <td>6039658508485.59</td>\n",
       "      <td>6612490294273.65</td>\n",
       "      <td>7124977970399.61</td>\n",
       "      <td>7672447738017.42</td>\n",
       "      <td>8230120617793.52</td>\n",
       "      <td>8797998940421.28</td>\n",
       "    </tr>\n",
       "    <tr>\n",
       "      <th>United States</th>\n",
       "      <td>2.00</td>\n",
       "      <td>96661.00</td>\n",
       "      <td>94747.00</td>\n",
       "      <td>792274.00</td>\n",
       "      <td>265436.00</td>\n",
       "      <td>8.20</td>\n",
       "      <td>230.00</td>\n",
       "      <td>90838000000.00</td>\n",
       "      <td>286.00</td>\n",
       "      <td>11.57</td>\n",
       "      <td>14792303791800.00</td>\n",
       "      <td>15055395304800.00</td>\n",
       "      <td>15011490541400.00</td>\n",
       "      <td>14594842181900.00</td>\n",
       "      <td>14964372000000.00</td>\n",
       "      <td>15204019634600.00</td>\n",
       "      <td>15542161722300.00</td>\n",
       "      <td>15773666098800.00</td>\n",
       "      <td>16156618476000.00</td>\n",
       "      <td>16548573278300.00</td>\n",
       "    </tr>\n",
       "    <tr>\n",
       "      <th>Japan</th>\n",
       "      <td>3.00</td>\n",
       "      <td>30504.00</td>\n",
       "      <td>30287.00</td>\n",
       "      <td>223024.00</td>\n",
       "      <td>61554.00</td>\n",
       "      <td>7.31</td>\n",
       "      <td>134.00</td>\n",
       "      <td>18984000000.00</td>\n",
       "      <td>149.00</td>\n",
       "      <td>10.23</td>\n",
       "      <td>5496541517363.31</td>\n",
       "      <td>5617035943770.73</td>\n",
       "      <td>5558526873313.82</td>\n",
       "      <td>5251308399909.32</td>\n",
       "      <td>5498717815809.77</td>\n",
       "      <td>5473738114222.05</td>\n",
       "      <td>5569101602926.18</td>\n",
       "      <td>5644658523313.42</td>\n",
       "      <td>5642884448582.19</td>\n",
       "      <td>5669563143140.97</td>\n",
       "    </tr>\n",
       "    <tr>\n",
       "      <th>United Kingdom</th>\n",
       "      <td>4.00</td>\n",
       "      <td>20944.00</td>\n",
       "      <td>20357.00</td>\n",
       "      <td>206091.00</td>\n",
       "      <td>37874.00</td>\n",
       "      <td>9.84</td>\n",
       "      <td>139.00</td>\n",
       "      <td>7920000000.00</td>\n",
       "      <td>124.00</td>\n",
       "      <td>10.60</td>\n",
       "      <td>2419630700401.73</td>\n",
       "      <td>2482203235475.90</td>\n",
       "      <td>2470614405284.30</td>\n",
       "      <td>2367047611711.99</td>\n",
       "      <td>2403504326328.80</td>\n",
       "      <td>2450911011124.85</td>\n",
       "      <td>2479808627472.19</td>\n",
       "      <td>2533370110012.36</td>\n",
       "      <td>2605643189894.93</td>\n",
       "      <td>2666333396477.13</td>\n",
       "    </tr>\n",
       "    <tr>\n",
       "      <th>Russian Federation</th>\n",
       "      <td>5.00</td>\n",
       "      <td>18534.00</td>\n",
       "      <td>18301.00</td>\n",
       "      <td>34266.00</td>\n",
       "      <td>12422.00</td>\n",
       "      <td>1.85</td>\n",
       "      <td>57.00</td>\n",
       "      <td>30709000000.00</td>\n",
       "      <td>214.00</td>\n",
       "      <td>17.29</td>\n",
       "      <td>1385792607182.58</td>\n",
       "      <td>1504071117741.30</td>\n",
       "      <td>1583004071092.11</td>\n",
       "      <td>1459199142720.26</td>\n",
       "      <td>1524917468442.01</td>\n",
       "      <td>1589942641764.29</td>\n",
       "      <td>1645875899596.27</td>\n",
       "      <td>1666934123163.16</td>\n",
       "      <td>1678708855070.86</td>\n",
       "      <td>1616148858033.77</td>\n",
       "    </tr>\n",
       "    <tr>\n",
       "      <th>Canada</th>\n",
       "      <td>6.00</td>\n",
       "      <td>17899.00</td>\n",
       "      <td>17620.00</td>\n",
       "      <td>215003.00</td>\n",
       "      <td>40930.00</td>\n",
       "      <td>12.01</td>\n",
       "      <td>149.00</td>\n",
       "      <td>10431000000.00</td>\n",
       "      <td>296.00</td>\n",
       "      <td>61.95</td>\n",
       "      <td>1564468853329.45</td>\n",
       "      <td>1596739898466.32</td>\n",
       "      <td>1612713061250.24</td>\n",
       "      <td>1565144676082.31</td>\n",
       "      <td>1613406134731.12</td>\n",
       "      <td>1664086754804.89</td>\n",
       "      <td>1693132927878.08</td>\n",
       "      <td>1730687770724.13</td>\n",
       "      <td>1773485821199.77</td>\n",
       "      <td>1792608764608.81</td>\n",
       "    </tr>\n",
       "    <tr>\n",
       "      <th>Germany</th>\n",
       "      <td>7.00</td>\n",
       "      <td>17027.00</td>\n",
       "      <td>16831.00</td>\n",
       "      <td>140566.00</td>\n",
       "      <td>27426.00</td>\n",
       "      <td>8.26</td>\n",
       "      <td>126.00</td>\n",
       "      <td>13261000000.00</td>\n",
       "      <td>165.00</td>\n",
       "      <td>17.90</td>\n",
       "      <td>3332890754966.89</td>\n",
       "      <td>3441560834437.09</td>\n",
       "      <td>3478809377483.44</td>\n",
       "      <td>3283339933774.83</td>\n",
       "      <td>3417298013245.03</td>\n",
       "      <td>3542371125827.81</td>\n",
       "      <td>3556723774834.44</td>\n",
       "      <td>3567317390728.48</td>\n",
       "      <td>3624386278145.70</td>\n",
       "      <td>3685555907284.77</td>\n",
       "    </tr>\n",
       "    <tr>\n",
       "      <th>India</th>\n",
       "      <td>8.00</td>\n",
       "      <td>15005.00</td>\n",
       "      <td>14841.00</td>\n",
       "      <td>128763.00</td>\n",
       "      <td>37209.00</td>\n",
       "      <td>8.58</td>\n",
       "      <td>115.00</td>\n",
       "      <td>33195000000.00</td>\n",
       "      <td>26.00</td>\n",
       "      <td>14.97</td>\n",
       "      <td>1265894322131.09</td>\n",
       "      <td>1374865195244.50</td>\n",
       "      <td>1428360609657.80</td>\n",
       "      <td>1549482541544.70</td>\n",
       "      <td>1708458876829.92</td>\n",
       "      <td>1821872415623.62</td>\n",
       "      <td>1924235460945.25</td>\n",
       "      <td>2051981849791.69</td>\n",
       "      <td>2200616575310.97</td>\n",
       "      <td>2367206118959.06</td>\n",
       "    </tr>\n",
       "    <tr>\n",
       "      <th>France</th>\n",
       "      <td>9.00</td>\n",
       "      <td>13153.00</td>\n",
       "      <td>12973.00</td>\n",
       "      <td>130632.00</td>\n",
       "      <td>28601.00</td>\n",
       "      <td>9.93</td>\n",
       "      <td>114.00</td>\n",
       "      <td>10597000000.00</td>\n",
       "      <td>166.00</td>\n",
       "      <td>17.02</td>\n",
       "      <td>2607839735099.34</td>\n",
       "      <td>2669423841059.60</td>\n",
       "      <td>2674637086092.71</td>\n",
       "      <td>2595966887417.22</td>\n",
       "      <td>2646994701986.75</td>\n",
       "      <td>2702031788079.47</td>\n",
       "      <td>2706968211920.53</td>\n",
       "      <td>2722566887417.22</td>\n",
       "      <td>2729631788079.47</td>\n",
       "      <td>2761185430463.58</td>\n",
       "    </tr>\n",
       "    <tr>\n",
       "      <th>South Korea</th>\n",
       "      <td>10.00</td>\n",
       "      <td>11983.00</td>\n",
       "      <td>11923.00</td>\n",
       "      <td>114675.00</td>\n",
       "      <td>22595.00</td>\n",
       "      <td>9.57</td>\n",
       "      <td>104.00</td>\n",
       "      <td>11007000000.00</td>\n",
       "      <td>221.00</td>\n",
       "      <td>2.28</td>\n",
       "      <td>941019882149.12</td>\n",
       "      <td>992431619676.20</td>\n",
       "      <td>1020509638539.71</td>\n",
       "      <td>1027729932849.17</td>\n",
       "      <td>1094499338702.72</td>\n",
       "      <td>1134795571930.64</td>\n",
       "      <td>1160809426196.79</td>\n",
       "      <td>1194429021591.57</td>\n",
       "      <td>1234340240503.49</td>\n",
       "      <td>1266580410309.11</td>\n",
       "    </tr>\n",
       "    <tr>\n",
       "      <th>Italy</th>\n",
       "      <td>11.00</td>\n",
       "      <td>10964.00</td>\n",
       "      <td>10794.00</td>\n",
       "      <td>111850.00</td>\n",
       "      <td>26661.00</td>\n",
       "      <td>10.20</td>\n",
       "      <td>106.00</td>\n",
       "      <td>6530000000.00</td>\n",
       "      <td>109.00</td>\n",
       "      <td>33.67</td>\n",
       "      <td>2202169663576.16</td>\n",
       "      <td>2234626814701.99</td>\n",
       "      <td>2211154176556.29</td>\n",
       "      <td>2089937511523.18</td>\n",
       "      <td>2125184794172.19</td>\n",
       "      <td>2137439133774.83</td>\n",
       "      <td>2077184315761.59</td>\n",
       "      <td>2040871178145.70</td>\n",
       "      <td>2033867707549.67</td>\n",
       "      <td>2049315603576.16</td>\n",
       "    </tr>\n",
       "    <tr>\n",
       "      <th>Spain</th>\n",
       "      <td>12.00</td>\n",
       "      <td>9428.00</td>\n",
       "      <td>9330.00</td>\n",
       "      <td>123336.00</td>\n",
       "      <td>23964.00</td>\n",
       "      <td>13.08</td>\n",
       "      <td>115.00</td>\n",
       "      <td>4923000000.00</td>\n",
       "      <td>106.00</td>\n",
       "      <td>37.97</td>\n",
       "      <td>1414822516556.29</td>\n",
       "      <td>1468145695364.24</td>\n",
       "      <td>1484529801324.50</td>\n",
       "      <td>1431475496688.74</td>\n",
       "      <td>1431672847682.12</td>\n",
       "      <td>1417354966887.42</td>\n",
       "      <td>1380215894039.73</td>\n",
       "      <td>1357139072847.68</td>\n",
       "      <td>1375605298013.24</td>\n",
       "      <td>1419821192052.98</td>\n",
       "    </tr>\n",
       "    <tr>\n",
       "      <th>Iran</th>\n",
       "      <td>13.00</td>\n",
       "      <td>8896.00</td>\n",
       "      <td>8819.00</td>\n",
       "      <td>57470.00</td>\n",
       "      <td>19125.00</td>\n",
       "      <td>6.46</td>\n",
       "      <td>72.00</td>\n",
       "      <td>9172000000.00</td>\n",
       "      <td>119.00</td>\n",
       "      <td>5.71</td>\n",
       "      <td>389552313541.27</td>\n",
       "      <td>425064554419.09</td>\n",
       "      <td>428990857822.09</td>\n",
       "      <td>438920754763.99</td>\n",
       "      <td>467790215915.48</td>\n",
       "      <td>485330901134.45</td>\n",
       "      <td>453256899727.83</td>\n",
       "      <td>444592553889.77</td>\n",
       "      <td>463902735245.89</td>\n",
       "      <td>nan</td>\n",
       "    </tr>\n",
       "    <tr>\n",
       "      <th>Australia</th>\n",
       "      <td>14.00</td>\n",
       "      <td>8831.00</td>\n",
       "      <td>8725.00</td>\n",
       "      <td>90765.00</td>\n",
       "      <td>15606.00</td>\n",
       "      <td>10.28</td>\n",
       "      <td>107.00</td>\n",
       "      <td>5386000000.00</td>\n",
       "      <td>231.00</td>\n",
       "      <td>11.81</td>\n",
       "      <td>1021939264106.67</td>\n",
       "      <td>1060340245233.55</td>\n",
       "      <td>1099643871866.03</td>\n",
       "      <td>1119653852349.08</td>\n",
       "      <td>1142250506474.06</td>\n",
       "      <td>1169431057881.91</td>\n",
       "      <td>1211913217353.49</td>\n",
       "      <td>1241484494446.53</td>\n",
       "      <td>1272519759757.29</td>\n",
       "      <td>1301251030445.66</td>\n",
       "    </tr>\n",
       "    <tr>\n",
       "      <th>Brazil</th>\n",
       "      <td>15.00</td>\n",
       "      <td>8668.00</td>\n",
       "      <td>8596.00</td>\n",
       "      <td>60702.00</td>\n",
       "      <td>14396.00</td>\n",
       "      <td>7.00</td>\n",
       "      <td>86.00</td>\n",
       "      <td>12149000000.00</td>\n",
       "      <td>59.00</td>\n",
       "      <td>69.65</td>\n",
       "      <td>1845079664513.56</td>\n",
       "      <td>1957118136056.33</td>\n",
       "      <td>2056809174052.93</td>\n",
       "      <td>2054214562458.19</td>\n",
       "      <td>2208872214643.02</td>\n",
       "      <td>2295244758549.53</td>\n",
       "      <td>2339209222185.09</td>\n",
       "      <td>2409739667075.82</td>\n",
       "      <td>2412230647720.45</td>\n",
       "      <td>2319423390494.13</td>\n",
       "    </tr>\n",
       "  </tbody>\n",
       "</table>\n",
       "</div>"
      ],
      "text/plain": [
       "                    Rank  Documents  Citable documents  Citations  \\\n",
       "Country                                                             \n",
       "China               1.00  127050.00          126767.00  597237.00   \n",
       "United States       2.00   96661.00           94747.00  792274.00   \n",
       "Japan               3.00   30504.00           30287.00  223024.00   \n",
       "United Kingdom      4.00   20944.00           20357.00  206091.00   \n",
       "Russian Federation  5.00   18534.00           18301.00   34266.00   \n",
       "Canada              6.00   17899.00           17620.00  215003.00   \n",
       "Germany             7.00   17027.00           16831.00  140566.00   \n",
       "India               8.00   15005.00           14841.00  128763.00   \n",
       "France              9.00   13153.00           12973.00  130632.00   \n",
       "South Korea        10.00   11983.00           11923.00  114675.00   \n",
       "Italy              11.00   10964.00           10794.00  111850.00   \n",
       "Spain              12.00    9428.00            9330.00  123336.00   \n",
       "Iran               13.00    8896.00            8819.00   57470.00   \n",
       "Australia          14.00    8831.00            8725.00   90765.00   \n",
       "Brazil             15.00    8668.00            8596.00   60702.00   \n",
       "\n",
       "                    Self-citations  Citations per document  H index  \\\n",
       "Country                                                               \n",
       "China                    411683.00                    4.70   138.00   \n",
       "United States            265436.00                    8.20   230.00   \n",
       "Japan                     61554.00                    7.31   134.00   \n",
       "United Kingdom            37874.00                    9.84   139.00   \n",
       "Russian Federation        12422.00                    1.85    57.00   \n",
       "Canada                    40930.00                   12.01   149.00   \n",
       "Germany                   27426.00                    8.26   126.00   \n",
       "India                     37209.00                    8.58   115.00   \n",
       "France                    28601.00                    9.93   114.00   \n",
       "South Korea               22595.00                    9.57   104.00   \n",
       "Italy                     26661.00                   10.20   106.00   \n",
       "Spain                     23964.00                   13.08   115.00   \n",
       "Iran                      19125.00                    6.46    72.00   \n",
       "Australia                 15606.00                   10.28   107.00   \n",
       "Brazil                    14396.00                    7.00    86.00   \n",
       "\n",
       "                     Energy Supply  Energy Supply per Capita  % Renewable  \\\n",
       "Country                                                                     \n",
       "China              127191000000.00                     93.00        19.75   \n",
       "United States       90838000000.00                    286.00        11.57   \n",
       "Japan               18984000000.00                    149.00        10.23   \n",
       "United Kingdom       7920000000.00                    124.00        10.60   \n",
       "Russian Federation  30709000000.00                    214.00        17.29   \n",
       "Canada              10431000000.00                    296.00        61.95   \n",
       "Germany             13261000000.00                    165.00        17.90   \n",
       "India               33195000000.00                     26.00        14.97   \n",
       "France              10597000000.00                    166.00        17.02   \n",
       "South Korea         11007000000.00                    221.00         2.28   \n",
       "Italy                6530000000.00                    109.00        33.67   \n",
       "Spain                4923000000.00                    106.00        37.97   \n",
       "Iran                 9172000000.00                    119.00         5.71   \n",
       "Australia            5386000000.00                    231.00        11.81   \n",
       "Brazil              12149000000.00                     59.00        69.65   \n",
       "\n",
       "                                2006              2007              2008  \\\n",
       "Country                                                                    \n",
       "China               3992331462570.89  4559041383517.93  4997775145605.96   \n",
       "United States      14792303791800.00 15055395304800.00 15011490541400.00   \n",
       "Japan               5496541517363.31  5617035943770.73  5558526873313.82   \n",
       "United Kingdom      2419630700401.73  2482203235475.90  2470614405284.30   \n",
       "Russian Federation  1385792607182.58  1504071117741.30  1583004071092.11   \n",
       "Canada              1564468853329.45  1596739898466.32  1612713061250.24   \n",
       "Germany             3332890754966.89  3441560834437.09  3478809377483.44   \n",
       "India               1265894322131.09  1374865195244.50  1428360609657.80   \n",
       "France              2607839735099.34  2669423841059.60  2674637086092.71   \n",
       "South Korea          941019882149.12   992431619676.20  1020509638539.71   \n",
       "Italy               2202169663576.16  2234626814701.99  2211154176556.29   \n",
       "Spain               1414822516556.29  1468145695364.24  1484529801324.50   \n",
       "Iran                 389552313541.27   425064554419.09   428990857822.09   \n",
       "Australia           1021939264106.67  1060340245233.55  1099643871866.03   \n",
       "Brazil              1845079664513.56  1957118136056.33  2056809174052.93   \n",
       "\n",
       "                                2009              2010              2011  \\\n",
       "Country                                                                    \n",
       "China               5459247267275.14  6039658508485.59  6612490294273.65   \n",
       "United States      14594842181900.00 14964372000000.00 15204019634600.00   \n",
       "Japan               5251308399909.32  5498717815809.77  5473738114222.05   \n",
       "United Kingdom      2367047611711.99  2403504326328.80  2450911011124.85   \n",
       "Russian Federation  1459199142720.26  1524917468442.01  1589942641764.29   \n",
       "Canada              1565144676082.31  1613406134731.12  1664086754804.89   \n",
       "Germany             3283339933774.83  3417298013245.03  3542371125827.81   \n",
       "India               1549482541544.70  1708458876829.92  1821872415623.62   \n",
       "France              2595966887417.22  2646994701986.75  2702031788079.47   \n",
       "South Korea         1027729932849.17  1094499338702.72  1134795571930.64   \n",
       "Italy               2089937511523.18  2125184794172.19  2137439133774.83   \n",
       "Spain               1431475496688.74  1431672847682.12  1417354966887.42   \n",
       "Iran                 438920754763.99   467790215915.48   485330901134.45   \n",
       "Australia           1119653852349.08  1142250506474.06  1169431057881.91   \n",
       "Brazil              2054214562458.19  2208872214643.02  2295244758549.53   \n",
       "\n",
       "                                2012              2013              2014  \\\n",
       "Country                                                                    \n",
       "China               7124977970399.61  7672447738017.42  8230120617793.52   \n",
       "United States      15542161722300.00 15773666098800.00 16156618476000.00   \n",
       "Japan               5569101602926.18  5644658523313.42  5642884448582.19   \n",
       "United Kingdom      2479808627472.19  2533370110012.36  2605643189894.93   \n",
       "Russian Federation  1645875899596.27  1666934123163.16  1678708855070.86   \n",
       "Canada              1693132927878.08  1730687770724.13  1773485821199.77   \n",
       "Germany             3556723774834.44  3567317390728.48  3624386278145.70   \n",
       "India               1924235460945.25  2051981849791.69  2200616575310.97   \n",
       "France              2706968211920.53  2722566887417.22  2729631788079.47   \n",
       "South Korea         1160809426196.79  1194429021591.57  1234340240503.49   \n",
       "Italy               2077184315761.59  2040871178145.70  2033867707549.67   \n",
       "Spain               1380215894039.73  1357139072847.68  1375605298013.24   \n",
       "Iran                 453256899727.83   444592553889.77   463902735245.89   \n",
       "Australia           1211913217353.49  1241484494446.53  1272519759757.29   \n",
       "Brazil              2339209222185.09  2409739667075.82  2412230647720.45   \n",
       "\n",
       "                                2015  \n",
       "Country                               \n",
       "China               8797998940421.28  \n",
       "United States      16548573278300.00  \n",
       "Japan               5669563143140.97  \n",
       "United Kingdom      2666333396477.13  \n",
       "Russian Federation  1616148858033.77  \n",
       "Canada              1792608764608.81  \n",
       "Germany             3685555907284.77  \n",
       "India               2367206118959.06  \n",
       "France              2761185430463.58  \n",
       "South Korea         1266580410309.11  \n",
       "Italy               2049315603576.16  \n",
       "Spain               1419821192052.98  \n",
       "Iran                             nan  \n",
       "Australia           1301251030445.66  \n",
       "Brazil              2319423390494.13  "
      ]
     },
     "execution_count": 261,
     "metadata": {},
     "output_type": "execute_result"
    }
   ],
   "source": [
    "def answer_one():\n",
    "    import pandas as pd\n",
    "    energy = pd.read_excel('Energy Indicators.xls', skiprows = 17, skip_footer = 38)\n",
    "    energy = energy.drop(['Unnamed: 0','Unnamed: 1'], axis = 1)\n",
    "    energy.rename(columns = {'Unnamed: 2':'Country','Petajoules':'Energy Supply','Gigajoules':'Energy Supply per Capita','%':'% Renewable'}, inplace = True)\n",
    "    energy['Energy Supply'] = pd.to_numeric(energy['Energy Supply'], errors ='coerce')\n",
    "    energy['Energy Supply per Capita'] = pd.to_numeric(energy['Energy Supply per Capita'], errors ='coerce')\n",
    "    energy['% Renewable'] = pd.to_numeric(energy['% Renewable'], errors ='coerce')\n",
    "    energy['Energy Supply'] = energy['Energy Supply'] * 1000000\n",
    "    energy['Country'] = energy['Country'].str.replace('\\d+',\"\")\n",
    "    energy['Country'] = energy['Country'].str.replace(r'\\([^)]*\\)',\"\")\n",
    "    energy['Country'] = energy['Country'].replace({\"Republic of Korea\": \"South Korea\",\n",
    "\"United States of America\": \"United States\",\n",
    "\"United Kingdom of Great Britain and Northern Ireland\": \"United Kingdom\",\n",
    "\"China, Hong Kong Special Administrative Region\": \"Hong Kong\"})\n",
    "    GDP = pd.read_csv(\"world_bank.csv\", skiprows = 4)\n",
    "    GDP['Country Name'] = GDP['Country Name'].replace({\"Korea, Rep.\": \"South Korea\", \n",
    "\"Iran, Islamic Rep.\": \"Iran\",\n",
    "\"Hong Kong SAR, China\": \"Hong Kong\"})\n",
    "    ScimEn = pd.read_excel(\"scimagojr-3.xlsx\")\n",
    "    GDP1 = GDP[['Country Name','2006','2007','2008','2009','2010','2011','2012','2013','2014','2015']]\n",
    "    energy['Country'] =  energy['Country'].str.strip(to_strip=None)\n",
    "    df  = ScimEn.merge(energy,left_on='Country', right_on='Country', how='outer' )\n",
    "    df1 = df.merge(GDP1,left_on = 'Country', right_on = 'Country Name', how = 'outer')\n",
    "    df1.reset_index()\n",
    "    df1 = df1.sort_values(by = 'Rank', axis = 0)\n",
    "    df1 = df1.set_index('Country')\n",
    "    df1 = df1.head(15)\n",
    "    df1 = df1.drop(['Country Name'], axis = 1)\n",
    "    return df1\n"
   ]
  },
  {
   "cell_type": "markdown",
   "metadata": {},
   "source": [
    "### Question 2 (6.6%)\n",
    "The previous question joined three datasets then reduced this to just the top 15 entries. When you joined the datasets, but before you reduced this to the top 15 items, how many entries did you lose?\n",
    "\n",
    "*This function should return a single number.*"
   ]
  },
  {
   "cell_type": "code",
   "execution_count": 10,
   "metadata": {},
   "outputs": [
    {
     "data": {
      "text/html": [
       "<svg width=\"800\" height=\"300\">\n",
       "  <circle cx=\"150\" cy=\"180\" r=\"80\" fill-opacity=\"0.2\" stroke=\"black\" stroke-width=\"2\" fill=\"blue\" />\n",
       "  <circle cx=\"200\" cy=\"100\" r=\"80\" fill-opacity=\"0.2\" stroke=\"black\" stroke-width=\"2\" fill=\"red\" />\n",
       "  <circle cx=\"100\" cy=\"100\" r=\"80\" fill-opacity=\"0.2\" stroke=\"black\" stroke-width=\"2\" fill=\"green\" />\n",
       "  <line x1=\"150\" y1=\"125\" x2=\"300\" y2=\"150\" stroke=\"black\" stroke-width=\"2\" fill=\"black\" stroke-dasharray=\"5,3\"/>\n",
       "  <text  x=\"300\" y=\"165\" font-family=\"Verdana\" font-size=\"35\">Everything but this!</text>\n",
       "</svg>"
      ],
      "text/plain": [
       "<IPython.core.display.HTML object>"
      ]
     },
     "metadata": {},
     "output_type": "display_data"
    }
   ],
   "source": [
    "%%HTML\n",
    "<svg width=\"800\" height=\"300\">\n",
    "  <circle cx=\"150\" cy=\"180\" r=\"80\" fill-opacity=\"0.2\" stroke=\"black\" stroke-width=\"2\" fill=\"blue\" />\n",
    "  <circle cx=\"200\" cy=\"100\" r=\"80\" fill-opacity=\"0.2\" stroke=\"black\" stroke-width=\"2\" fill=\"red\" />\n",
    "  <circle cx=\"100\" cy=\"100\" r=\"80\" fill-opacity=\"0.2\" stroke=\"black\" stroke-width=\"2\" fill=\"green\" />\n",
    "  <line x1=\"150\" y1=\"125\" x2=\"300\" y2=\"150\" stroke=\"black\" stroke-width=\"2\" fill=\"black\" stroke-dasharray=\"5,3\"/>\n",
    "  <text  x=\"300\" y=\"165\" font-family=\"Verdana\" font-size=\"35\">Everything but this!</text>\n",
    "</svg>"
   ]
  },
  {
   "cell_type": "code",
   "execution_count": 5,
   "metadata": {
    "collapsed": true,
    "umich_part_id": "010",
    "umich_partlist_id": "003"
   },
   "outputs": [],
   "source": [
    "def answer_two():\n",
    "    return 156"
   ]
  },
  {
   "cell_type": "markdown",
   "metadata": {},
   "source": [
    "## Answer the following questions in the context of only the top 15 countries by Scimagojr Rank (aka the DataFrame returned by `answer_one()`)"
   ]
  },
  {
   "cell_type": "markdown",
   "metadata": {},
   "source": [
    "### Question 3 (6.6%)\n",
    "What is the average GDP over the last 10 years for each country? (exclude missing values from this calculation.)\n",
    "\n",
    "*This function should return a Series named `avgGDP` with 15 countries and their average GDP sorted in descending order.*"
   ]
  },
  {
   "cell_type": "code",
   "execution_count": 262,
   "metadata": {
    "collapsed": true,
    "scrolled": true,
    "umich_part_id": "011",
    "umich_partlist_id": "003"
   },
   "outputs": [],
   "source": [
    "def answer_three():\n",
    "    import pandas as pd\n",
    "    pd.options.display.float_format = '{:.3f}'.format\n",
    "    Top15 = answer_one()\n",
    "    Top15 = Top15[['2006','2007','2008','2009','2010','2011','2012','2013','2014','2015']]\n",
    "    Top15['gdpavg'] = Top15.mean(axis = 1)\n",
    "    avgGDP = Top15.loc[:,'gdpavg']\n",
    "    avgGDP = avgGDP.sort_values(ascending = False)\n",
    "    return avgGDP"
   ]
  },
  {
   "cell_type": "markdown",
   "metadata": {},
   "source": [
    "### Question 4 (6.6%)\n",
    "By how much had the GDP changed over the 10 year span for the country with the 6th largest average GDP?\n",
    "\n",
    "*This function should return a single number.*"
   ]
  },
  {
   "cell_type": "code",
   "execution_count": 206,
   "metadata": {
    "scrolled": true,
    "umich_part_id": "012",
    "umich_partlist_id": "003"
   },
   "outputs": [
    {
     "data": {
      "text/plain": [
       "246702696075.3999"
      ]
     },
     "execution_count": 206,
     "metadata": {},
     "output_type": "execute_result"
    }
   ],
   "source": [
    "def answer_four():\n",
    "    Top15 = answer_one()\n",
    "    Top15 = Top15[['2006','2007','2008','2009','2010','2011','2012','2013','2014','2015']]\n",
    "    Top15['gdpavg'] = Top15.mean(axis = 1, skipna = False)\n",
    "    Top15 = Top15.sort_values(by = 'gdpavg',ascending = False).iloc[5]\n",
    "    change = Top15['2015']- Top15['2006']\n",
    "    change = change.max()\n",
    "    return change\n"
   ]
  },
  {
   "cell_type": "markdown",
   "metadata": {},
   "source": [
    "### Question 5 (6.6%)\n",
    "What is the mean `Energy Supply per Capita`?\n",
    "\n",
    "*This function should return a single number.*"
   ]
  },
  {
   "cell_type": "code",
   "execution_count": 241,
   "metadata": {
    "umich_part_id": "013",
    "umich_partlist_id": "003"
   },
   "outputs": [
    {
     "data": {
      "text/plain": [
       "149.66666666666666"
      ]
     },
     "execution_count": 241,
     "metadata": {},
     "output_type": "execute_result"
    }
   ],
   "source": [
    "def answer_five():\n",
    "    Top15 = answer_one()\n",
    "    Top15['Energy Supply per Capita'] = Top15['Energy Supply per Capita'].fillna(0)\n",
    "    df = Top15['Energy Supply per Capita'].mean(axis = 0)\n",
    "    return (df)"
   ]
  },
  {
   "cell_type": "markdown",
   "metadata": {},
   "source": [
    "\n",
    "### Question 6 (6.6%)\n",
    "What country has the maximum % Renewable and what is the percentage?\n",
    "\n",
    "*This function should return a tuple with the name of the country and the percentage.*"
   ]
  },
  {
   "cell_type": "code",
   "execution_count": 183,
   "metadata": {
    "collapsed": true,
    "umich_part_id": "014",
    "umich_partlist_id": "003"
   },
   "outputs": [],
   "source": [
    "def answer_six():\n",
    "    Top15 = answer_one()\n",
    "    percentage = Top15.sort_values(by='% Renewable',ascending = False).iloc[0]\n",
    "    return (percentage.name, percentage['% Renewable'])\n"
   ]
  },
  {
   "cell_type": "markdown",
   "metadata": {},
   "source": [
    "### Question 7 (6.6%)\n",
    "Create a new column that is the ratio of Self-Citations to Total Citations. \n",
    "What is the maximum value for this new column, and what country has the highest ratio?\n",
    "\n",
    "*This function should return a tuple with the name of the country and the ratio.*"
   ]
  },
  {
   "cell_type": "code",
   "execution_count": 193,
   "metadata": {
    "collapsed": true,
    "umich_part_id": "015",
    "umich_partlist_id": "003"
   },
   "outputs": [],
   "source": [
    "def answer_seven():\n",
    "    import pandas as pd\n",
    "    pd.options.display.float_format = '{:.2f}'.format\n",
    "    Top15 = answer_one()\n",
    "    Top15['ratio'] = Top15['Self-citations']/Top15['Citations']\n",
    "    percentage = Top15.sort_values(by='ratio',ascending = False).iloc[0]\n",
    "    return (percentage.name, percentage['ratio'])\n"
   ]
  },
  {
   "cell_type": "markdown",
   "metadata": {},
   "source": [
    "### Question 8 (6.6%)\n",
    "\n",
    "Create a column that estimates the population using Energy Supply and Energy Supply per capita. \n",
    "What is the third most populous country according to this estimate?\n",
    "\n",
    "*This function should return a single string value.*"
   ]
  },
  {
   "cell_type": "code",
   "execution_count": 242,
   "metadata": {
    "collapsed": true,
    "umich_part_id": "016",
    "umich_partlist_id": "003"
   },
   "outputs": [],
   "source": [
    "def answer_eight():\n",
    "    Top15 = answer_one()\n",
    "    Top15['Population'] = Top15['Energy Supply']/Top15['Energy Supply per Capita']\n",
    "    Top15 = Top15.sort_values(by='Population',ascending = False).iloc[2]\n",
    "    return Top15.name\n"
   ]
  },
  {
   "cell_type": "markdown",
   "metadata": {},
   "source": [
    "### Question 9 (6.6%)\n",
    "Create a column that estimates the number of citable documents per person. \n",
    "What is the correlation between the number of citable documents per capita and the energy supply per capita? Use the `.corr()` method, (Pearson's correlation).\n",
    "\n",
    "*This function should return a single number.*\n",
    "\n",
    "*(Optional: Use the built-in function `plot9()` to visualize the relationship between Energy Supply per Capita vs. Citable docs per Capita)*"
   ]
  },
  {
   "cell_type": "code",
   "execution_count": 243,
   "metadata": {
    "umich_part_id": "017",
    "umich_partlist_id": "003"
   },
   "outputs": [
    {
     "data": {
      "text/plain": [
       "0.79019354883008741"
      ]
     },
     "execution_count": 243,
     "metadata": {},
     "output_type": "execute_result"
    }
   ],
   "source": [
    "def answer_nine():\n",
    "    Top15 = answer_one()\n",
    "    Top15['Energy Supply per Capita'] = Top15['Energy Supply per Capita'].fillna(0)\n",
    "    Top15['Population'] = Top15['Energy Supply']/Top15['Energy Supply per Capita']\n",
    "    Top15['Citable documents per person'] = Top15['Citable documents']/Top15['Population']\n",
    "    relation =Top15['Citable documents per person'].corr(Top15['Energy Supply per Capita'])\n",
    "    return (relation) "
   ]
  },
  {
   "cell_type": "code",
   "execution_count": 215,
   "metadata": {},
   "outputs": [
    {
     "data": {
      "image/png": "[encoded data removed]",
      "text/plain": [
       "<matplotlib.figure.Figure at 0x7f66dfc7ea90>"
      ]
     },
     "metadata": {},
     "output_type": "display_data"
    }
   ],
   "source": [
    "##def plot9():\n",
    "    #import matplotlib as plt\n",
    "    #%matplotlib inline\n",
    "    \n",
    "    #Top15 = answer_one()\n",
    "    #Top15['PopEst'] = Top15['Energy Supply'] / Top15['Energy Supply per Capita']\n",
    "    #Top15['Citable docs per Capita'] = Top15['Citable documents'] / Top15['PopEst']\n",
    "    #Top15.plot(x='Citable docs per Capita', y='Energy Supply per Capita', kind='scatter', xlim=[0, 0.0006])\n",
    "    \n",
    "    "
   ]
  },
  {
   "cell_type": "code",
   "execution_count": null,
   "metadata": {
    "collapsed": true
   },
   "outputs": [],
   "source": [
    "#plot9() # Be sure to comment out plot9() before submitting the assignment!"
   ]
  },
  {
   "cell_type": "markdown",
   "metadata": {},
   "source": [
    "### Question 10 (6.6%)\n",
    "Create a new column with a 1 if the country's % Renewable value is at or above the median for all countries in the top 15, and a 0 if the country's % Renewable value is below the median.\n",
    "\n",
    "*This function should return a series named `HighRenew` whose index is the country name sorted in ascending order of rank.*"
   ]
  },
  {
   "cell_type": "code",
   "execution_count": 270,
   "metadata": {
    "umich_part_id": "018",
    "umich_partlist_id": "003"
   },
   "outputs": [
    {
     "data": {
      "text/plain": [
       "Country\n",
       "China                 1\n",
       "United States         0\n",
       "Japan                 0\n",
       "United Kingdom        0\n",
       "Russian Federation    1\n",
       "Canada                1\n",
       "Germany               1\n",
       "India                 0\n",
       "France                1\n",
       "South Korea           0\n",
       "Italy                 1\n",
       "Spain                 1\n",
       "Iran                  0\n",
       "Australia             0\n",
       "Brazil                1\n",
       "Name: HighRenew, dtype: int64"
      ]
     },
     "execution_count": 270,
     "metadata": {},
     "output_type": "execute_result"
    }
   ],
   "source": [
    "def answer_ten():\n",
    "    Top15 = answer_one()\n",
    "    renewable_mean = Top15['% Renewable'].median()\n",
    "    Top15['HighRenew'] = Top15['% Renewable'].map(lambda x:1 if x >= renewable_mean else 0)\n",
    "    Top15 = Top15.sort_values(by = 'Rank', ascending = True)\n",
    "    return Top15['HighRenew']\n"
   ]
  },
  {
   "cell_type": "markdown",
   "metadata": {},
   "source": [
    "### Question 11 (6.6%)\n",
    "Use the following dictionary to group the Countries by Continent, then create a dateframe that displays the sample size (the number of countries in each continent bin), and the sum, mean, and std deviation for the estimated population of each country.\n",
    "\n",
    "```python\n",
    "ContinentDict  = {'China':'Asia', \n",
    "                  'United States':'North America', \n",
    "                  'Japan':'Asia', \n",
    "                  'United Kingdom':'Europe', \n",
    "                  'Russian Federation':'Europe', \n",
    "                  'Canada':'North America', \n",
    "                  'Germany':'Europe', \n",
    "                  'India':'Asia',\n",
    "                  'France':'Europe', \n",
    "                  'South Korea':'Asia', \n",
    "                  'Italy':'Europe', \n",
    "                  'Spain':'Europe', \n",
    "                  'Iran':'Asia',\n",
    "                  'Australia':'Australia', \n",
    "                  'Brazil':'South America'}\n",
    "```\n",
    "\n",
    "*This function should return a DataFrame with index named Continent `['Asia', 'Australia', 'Europe', 'North America', 'South America']` and columns `['size', 'sum', 'mean', 'std']`*"
   ]
  },
  {
   "cell_type": "code",
   "execution_count": 70,
   "metadata": {
    "umich_part_id": "019",
    "umich_partlist_id": "003"
   },
   "outputs": [],
   "source": [
    "def answer_eleven():\n",
    "    import pandas as pd\n",
    "    import numpy as np\n",
    "    Top15 = answer_one()\n",
    "    pd.options.display.float_format = '{:.2f}'.format\n",
    "    Top15['Population'] = Top15['Energy Supply']/Top15['Energy Supply per Capita']\n",
    "    Top15.reset_index()\n",
    "    ContinentDict  = {'China':'Asia', \n",
    "                  'United States':'North America', \n",
    "                  'Japan':'Asia', \n",
    "                  'United Kingdom':'Europe', \n",
    "                  'Russian Federation':'Europe', \n",
    "                  'Canada':'North America', \n",
    "                  'Germany':'Europe', \n",
    "                  'India':'Asia',\n",
    "                  'France':'Europe', \n",
    "                  'South Korea':'Asia', \n",
    "                  'Italy':'Europe', \n",
    "                  'Spain':'Europe', \n",
    "                  'Iran':'Asia',\n",
    "                  'Australia':'Australia', \n",
    "                  'Brazil':'South America'}\n",
    "    df = pd.DataFrame.from_dict(ContinentDict,orient='index')\n",
    "    Top15['Continent'] = df[0]\n",
    "    Top15.reset_index()\n",
    "    Top15['Population'] = Top15['Population'].astype(float)\n",
    "    size = Top15.groupby('Continent')['Rank'].count()\n",
    "    sum1 = Top15.groupby('Continent')['Population'].sum()\n",
    "    mean = Top15.groupby('Continent')['Population'].mean()\n",
    "    sd = Top15.groupby('Continent')['Population'].std() \n",
    "    size = size.to_frame()\n",
    "    size = size.rename(columns = {\"Rank\":\"size\"})\n",
    "    Continent = size.copy()\n",
    "    Continent['sum'] = sum1\n",
    "    Continent['mean'] = mean\n",
    "    Continent['std'] = sd\n",
    "    return Continent\n"
   ]
  },
  {
   "cell_type": "markdown",
   "metadata": {},
   "source": [
    "### Question 12 (6.6%)\n",
    "Cut % Renewable into 5 bins. Group Top15 by the Continent, as well as these new % Renewable bins. How many countries are in each of these groups?\n",
    "\n",
    "*This function should return a __Series__ with a MultiIndex of `Continent`, then the bins for `% Renewable`. Do not include groups with no countries.*"
   ]
  },
  {
   "cell_type": "code",
   "execution_count": 76,
   "metadata": {
    "scrolled": true
   },
   "outputs": [],
   "source": [
    "def answer_twelve():\n",
    "    import pandas as pd\n",
    "    Top15 = answer_one()\n",
    "    ContinentDict  = {'China':'Asia', \n",
    "                  'United States':'North America', \n",
    "                  'Japan':'Asia', \n",
    "                  'United Kingdom':'Europe', \n",
    "                  'Russian Federation':'Europe', \n",
    "                  'Canada':'North America', \n",
    "                  'Germany':'Europe', \n",
    "                  'India':'Asia',\n",
    "                  'France':'Europe', \n",
    "                  'South Korea':'Asia', \n",
    "                  'Italy':'Europe', \n",
    "                  'Spain':'Europe', \n",
    "                  'Iran':'Asia',\n",
    "                  'Australia':'Australia', \n",
    "                  'Brazil':'South America'}\n",
    "    df = pd.DataFrame.from_dict(ContinentDict,orient='index')\n",
    "    Top15['Continent'] = df[0]\n",
    "    Top15['bins'] = pd.cut(Top15['% Renewable'],5)  \n",
    "    return Top15.groupby(['Continent','bins']).size()\n"
   ]
  },
  {
   "cell_type": "markdown",
   "metadata": {},
   "source": [
    "### Question 13 (6.6%)\n",
    "Convert the Population Estimate series to a string with thousands separator (using commas). Do not round the results.\n",
    "\n",
    "e.g. 317615384.61538464 -> 317,615,384.61538464\n",
    "\n",
    "*This function should return a Series `PopEst` whose index is the country name and whose values are the population estimate string.*"
   ]
  },
  {
   "cell_type": "code",
   "execution_count": 88,
   "metadata": {
    "scrolled": true,
    "umich_part_id": "020",
    "umich_partlist_id": "003"
   },
   "outputs": [
    {
     "data": {
      "text/plain": [
       "Country\n",
       "China                 1,367,645,161.2903225\n",
       "United States          317,615,384.61538464\n",
       "Japan                  127,409,395.97315437\n",
       "United Kingdom         63,870,967.741935484\n",
       "Russian Federation            143,500,000.0\n",
       "Canada                  35,239,864.86486486\n",
       "Germany                 80,369,696.96969697\n",
       "India                 1,276,730,769.2307692\n",
       "France                  63,837,349.39759036\n",
       "South Korea            49,805,429.864253394\n",
       "Italy                  59,908,256.880733944\n",
       "Spain                    46,443,396.2264151\n",
       "Iran                    77,075,630.25210084\n",
       "Australia              23,316,017.316017315\n",
       "Brazil                 205,915,254.23728815\n",
       "Name: Population, dtype: object"
      ]
     },
     "execution_count": 88,
     "metadata": {},
     "output_type": "execute_result"
    }
   ],
   "source": [
    "def answer_thirteen():\n",
    "    \n",
    "    Top15 = answer_one()\n",
    "    Top15['Population'] = Top15['Energy Supply']/Top15['Energy Supply per Capita'].astype('float')\n",
    "    PopEst=Top15['Population'].apply(lambda x:format(x,','))\n",
    "    return (PopEst)\n",
    "answer_thirteen()"
   ]
  },
  {
   "cell_type": "markdown",
   "metadata": {},
   "source": [
    "### Optional\n",
    "\n",
    "Use the built in function `plot_optional()` to see an example visualization."
   ]
  },
  {
   "cell_type": "code",
   "execution_count": 89,
   "metadata": {
    "collapsed": true,
    "scrolled": true
   },
   "outputs": [],
   "source": [
    "def plot_optional():\n",
    "    import matplotlib as plt\n",
    "    %matplotlib inline\n",
    "    Top15 = answer_one()\n",
    "    ax = Top15.plot(x='Rank', y='% Renewable', kind='scatter', \n",
    "                    c=['#e41a1c','#377eb8','#e41a1c','#4daf4a','#4daf4a','#377eb8','#4daf4a','#e41a1c',\n",
    "                       '#4daf4a','#e41a1c','#4daf4a','#4daf4a','#e41a1c','#dede00','#ff7f00'], \n",
    "                    xticks=range(1,16), s=6*Top15['2014']/10**10, alpha=.75, figsize=[16,6]);\n",
    "\n",
    "    for i, txt in enumerate(Top15.index):\n",
    "        ax.annotate(txt, [Top15['Rank'][i], Top15['% Renewable'][i]], ha='center')\n",
    "\n",
    "    print(\"This is an example of a visualization that can be created to help understand the data. \\\n",
    "This is a bubble chart showing % Renewable vs. Rank. The size of the bubble corresponds to the countries' \\\n",
    "2014 GDP, and the color corresponds to the continent.\")"
   ]
  },
  {
   "cell_type": "code",
   "execution_count": 90,
   "metadata": {},
   "outputs": [
    {
     "name": "stdout",
     "output_type": "stream",
     "text": [
      "This is an example of a visualization that can be created to help understand the data. This is a bubble chart showing % Renewable vs. Rank. The size of the bubble corresponds to the countries' 2014 GDP, and the color corresponds to the continent.\n"
     ]
    },
    {
     "data": {
      "image/png": "[encoded data removed]",
      "text/plain": [
       "<matplotlib.figure.Figure at 0x7fe9b16a5208>"
      ]
     },
     "metadata": {},
     "output_type": "display_data"
    }
   ],
   "source": [
    "plot_optional()  #Be sure to comment out plot_optional() before submitting the assignment!"
   ]
  },
  {
   "cell_type": "code",
   "execution_count": null,
   "metadata": {
    "collapsed": true
   },
   "outputs": [],
   "source": []
  }
 ],
 "metadata": {
  "anaconda-cloud": {},
  "coursera": {
   "course_slug": "python-data-analysis",
   "graded_item_id": "zAr06",
   "launcher_item_id": "KSSjT",
   "part_id": "SL3fU"
  },
  "kernelspec": {
   "display_name": "Python 3",
   "language": "python",
   "name": "python3"
  },
  "language_info": {
   "codemirror_mode": {
    "name": "ipython",
    "version": 3
   },
   "file_extension": ".py",
   "mimetype": "text/x-python",
   "name": "python",
   "nbconvert_exporter": "python",
   "pygments_lexer": "ipython3",
   "version": "3.6.0"
  },
  "umich": {
   "id": "Assignment 3",
   "version": "1.5"
  }
 },
 "nbformat": 4,
 "nbformat_minor": 1
}
